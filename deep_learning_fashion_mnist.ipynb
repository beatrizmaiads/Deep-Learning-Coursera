{
  "nbformat": 4,
  "nbformat_minor": 0,
  "metadata": {
    "colab": {
      "name": "deep-learning-fashion-mnist.ipynb",
      "provenance": [],
      "collapsed_sections": [],
      "authorship_tag": "ABX9TyPDCDjdo1gZHVo5M0z9y39g"
    },
    "kernelspec": {
      "name": "python3",
      "display_name": "Python 3"
    }
  },
  "cells": [
    {
      "cell_type": "markdown",
      "metadata": {
        "id": "5e5kQ_kSV-OL",
        "colab_type": "text"
      },
      "source": [
        "# **Deep Learning - Keras-Tensorflow**"
      ]
    },
    {
      "cell_type": "code",
      "metadata": {
        "id": "5D66GFghVzvs",
        "colab_type": "code",
        "colab": {}
      },
      "source": [
        "# importando bibliotecas\n",
        "import numpy as np\n",
        "import matplotlib.pyplot as plt\n",
        "import tensorflow\n",
        "from tensorflow import keras\n",
        "from tensorflow.keras.models import load_model"
      ],
      "execution_count": 1,
      "outputs": []
    },
    {
      "cell_type": "code",
      "metadata": {
        "id": "a8XRIGDvWfuN",
        "colab_type": "code",
        "colab": {}
      },
      "source": [
        "# carregando o dataset\n",
        "dados = keras.datasets.fashion_mnist\n",
        "((img_treino, labels_treino), (img_teste, labels_teste)) = dados.load_data()"
      ],
      "execution_count": 2,
      "outputs": []
    },
    {
      "cell_type": "markdown",
      "metadata": {
        "id": "Qd3a1bHQYUIx",
        "colab_type": "text"
      },
      "source": [
        "## Conhecendo melhor os nossos dados\n",
        "\n"
      ]
    },
    {
      "cell_type": "code",
      "metadata": {
        "id": "SF9xZGlQXEVX",
        "colab_type": "code",
        "colab": {
          "base_uri": "https://localhost:8080/",
          "height": 34
        },
        "outputId": "4333a694-ef74-4695-b83f-1d1914ba7508"
      },
      "source": [
        "img_treino.shape"
      ],
      "execution_count": 3,
      "outputs": [
        {
          "output_type": "execute_result",
          "data": {
            "text/plain": [
              "(60000, 28, 28)"
            ]
          },
          "metadata": {
            "tags": []
          },
          "execution_count": 3
        }
      ]
    },
    {
      "cell_type": "code",
      "metadata": {
        "id": "RGp6l13tXiJH",
        "colab_type": "code",
        "colab": {
          "base_uri": "https://localhost:8080/",
          "height": 34
        },
        "outputId": "b5054b14-277a-4375-d920-a32e94defce0"
      },
      "source": [
        "img_teste.shape"
      ],
      "execution_count": 4,
      "outputs": [
        {
          "output_type": "execute_result",
          "data": {
            "text/plain": [
              "(10000, 28, 28)"
            ]
          },
          "metadata": {
            "tags": []
          },
          "execution_count": 4
        }
      ]
    },
    {
      "cell_type": "code",
      "metadata": {
        "id": "MD2EP7nAXuf5",
        "colab_type": "code",
        "colab": {
          "base_uri": "https://localhost:8080/",
          "height": 52
        },
        "outputId": "5e324798-d28d-42a7-dcf3-5bac0b50e2e7"
      },
      "source": [
        "print(f'Min id: {labels_treino.min()}')\n",
        "print(f'Max id: {labels_treino.max()}')"
      ],
      "execution_count": 5,
      "outputs": [
        {
          "output_type": "stream",
          "text": [
            "Min id: 0\n",
            "Max id: 9\n"
          ],
          "name": "stdout"
        }
      ]
    },
    {
      "cell_type": "code",
      "metadata": {
        "id": "Yzf4US4_XxD8",
        "colab_type": "code",
        "colab": {}
      },
      "source": [
        "total_de_labels = 10\n",
        "nomes_labels = ['Camiseta', 'Calça', 'Pullover', \n",
        "                'Vestido', 'Casaco', 'Sandália', 'Camisa',\n",
        "                'Tênis', 'Bolsa', 'Bota'] #informação retirada do https://github.com/zalandoresearch/fashion-mnist"
      ],
      "execution_count": 6,
      "outputs": []
    },
    {
      "cell_type": "code",
      "metadata": {
        "id": "kfS_S581ZSPO",
        "colab_type": "code",
        "colab": {
          "base_uri": "https://localhost:8080/",
          "height": 265
        },
        "outputId": "35829162-7870-4f71-b48e-3e01fee9e96c"
      },
      "source": [
        "# visualizando nossas imagens\n",
        "plt.imshow(img_treino[0])\n",
        "plt.colorbar()\n",
        "plt.show()"
      ],
      "execution_count": 7,
      "outputs": [
        {
          "output_type": "display_data",
          "data": {
            "image/png": "[encoded data removed]",
            "text/plain": [
              "<Figure size 432x288 with 2 Axes>"
            ]
          },
          "metadata": {
            "tags": [],
            "needs_background": "light"
          }
        }
      ]
    },
    {
      "cell_type": "code",
      "metadata": {
        "id": "rB1M0kL2ZkUJ",
        "colab_type": "code",
        "colab": {
          "base_uri": "https://localhost:8080/",
          "height": 269
        },
        "outputId": "6dad401a-ad2e-4a3d-ee47-25177074fed3"
      },
      "source": [
        "# normalizando as imagens\n",
        "img_treino = img_treino / float(255)\n",
        "\n",
        "plt.imshow(img_treino[0])\n",
        "plt.colorbar()\n",
        "plt.show()"
      ],
      "execution_count": 8,
      "outputs": [
        {
          "output_type": "display_data",
          "data": {
            "image/png": "[encoded data removed]",
            "text/plain": [
              "<Figure size 432x288 with 2 Axes>"
            ]
          },
          "metadata": {
            "tags": [],
            "needs_background": "light"
          }
        }
      ]
    },
    {
      "cell_type": "markdown",
      "metadata": {
        "id": "nD9qsx7NaCOy",
        "colab_type": "text"
      },
      "source": [
        "## Criando, compilando, treinando e normalizando o modelo"
      ]
    },
    {
      "cell_type": "code",
      "metadata": {
        "id": "BkPmZITQZ5uA",
        "colab_type": "code",
        "colab": {
          "base_uri": "https://localhost:8080/",
          "height": 190
        },
        "outputId": "f232014b-f32e-453c-cce2-5bc14dab38fb"
      },
      "source": [
        "modelo = keras.Sequential([\n",
        "    keras.layers.Flatten(input_shape=(28, 28)), #entrada\n",
        "    keras.layers.Dense(256, activation=tensorflow.nn.relu), #camada oculta\n",
        "    keras.layers.Dropout(0.2), #camada oculta\n",
        "    keras.layers.Dense(10, activation=tensorflow.nn.softmax) #saída\n",
        "])\n",
        "\n",
        "adam = keras.optimizers.Adam(lr=0.002)\n",
        "callbacks = [keras.callbacks.EarlyStopping(monitor='val_loss'),\n",
        "             keras.callbacks.ModelCheckpoint(filepath='melhor_modelo.hdf5',\n",
        "                                             monitor='val_loss',\n",
        "                                             save_best_only=True)]\n",
        "\n",
        "modelo.compile(optimizer=adam,\n",
        "               loss='sparse_categorical_crossentropy',\n",
        "               metrics=['accuracy'])\n",
        "\n",
        "historico = modelo.fit(img_treino, labels_treino, \n",
        "                       batch_size = 480, epochs=5,\n",
        "                       validation_split=0.2, callbacks=callbacks\n",
        "                       )"
      ],
      "execution_count": 9,
      "outputs": [
        {
          "output_type": "stream",
          "text": [
            "Epoch 1/5\n",
            "100/100 [==============================] - 2s 15ms/step - loss: 0.6378 - accuracy: 0.7770 - val_loss: 0.4631 - val_accuracy: 0.8370\n",
            "Epoch 2/5\n",
            "100/100 [==============================] - 1s 14ms/step - loss: 0.4362 - accuracy: 0.8464 - val_loss: 0.3961 - val_accuracy: 0.8603\n",
            "Epoch 3/5\n",
            "100/100 [==============================] - 1s 14ms/step - loss: 0.3898 - accuracy: 0.8606 - val_loss: 0.3820 - val_accuracy: 0.8670\n",
            "Epoch 4/5\n",
            "100/100 [==============================] - 1s 14ms/step - loss: 0.3644 - accuracy: 0.8688 - val_loss: 0.3550 - val_accuracy: 0.8713\n",
            "Epoch 5/5\n",
            "100/100 [==============================] - 1s 14ms/step - loss: 0.3385 - accuracy: 0.8771 - val_loss: 0.3526 - val_accuracy: 0.8747\n"
          ],
          "name": "stdout"
        }
      ]
    },
    {
      "cell_type": "code",
      "metadata": {
        "id": "09IYIlCvMtuK",
        "colab_type": "code",
        "colab": {
          "base_uri": "https://localhost:8080/",
          "height": 294
        },
        "outputId": "03e0275c-b408-4c7c-a287-76a78cd7cdab"
      },
      "source": [
        "# sumário do modelo\n",
        "sumario_do_modelo = modelo.summary()"
      ],
      "execution_count": 10,
      "outputs": [
        {
          "output_type": "stream",
          "text": [
            "Model: \"sequential\"\n",
            "_________________________________________________________________\n",
            "Layer (type)                 Output Shape              Param #   \n",
            "=================================================================\n",
            "flatten (Flatten)            (None, 784)               0         \n",
            "_________________________________________________________________\n",
            "dense (Dense)                (None, 256)               200960    \n",
            "_________________________________________________________________\n",
            "dropout (Dropout)            (None, 256)               0         \n",
            "_________________________________________________________________\n",
            "dense_1 (Dense)              (None, 10)                2570      \n",
            "=================================================================\n",
            "Total params: 203,530\n",
            "Trainable params: 203,530\n",
            "Non-trainable params: 0\n",
            "_________________________________________________________________\n"
          ],
          "name": "stdout"
        }
      ]
    },
    {
      "cell_type": "code",
      "metadata": {
        "id": "ROKe-DebX5om",
        "colab_type": "code",
        "colab": {
          "base_uri": "https://localhost:8080/",
          "height": 242
        },
        "outputId": "333b2f57-1cdc-4539-a36e-292151a88301"
      },
      "source": [
        "pesos_camada_dense = modelo.layers[1].get_weights()[0]\n",
        "pesos_camada_dense"
      ],
      "execution_count": 11,
      "outputs": [
        {
          "output_type": "execute_result",
          "data": {
            "text/plain": [
              "array([[-0.03475954, -0.0708861 , -0.10527902, ...,  0.06660415,\n",
              "        -0.07895739,  0.00707756],\n",
              "       [-0.06877338, -0.01865678, -0.05862473, ..., -0.03233273,\n",
              "        -0.01490407,  0.03341922],\n",
              "       [-0.00692695, -0.03854222, -0.02875997, ...,  0.020714  ,\n",
              "         0.05103088, -0.00489914],\n",
              "       ...,\n",
              "       [ 0.07952617,  0.0915361 , -0.14984795, ...,  0.04518891,\n",
              "         0.03549114, -0.03909726],\n",
              "       [ 0.07792767,  0.15109274, -0.04379598, ..., -0.03410535,\n",
              "         0.04031953,  0.04267595],\n",
              "       [-0.09182709,  0.13146897,  0.02262694, ..., -0.05767448,\n",
              "         0.08707291, -0.03705522]], dtype=float32)"
            ]
          },
          "metadata": {
            "tags": []
          },
          "execution_count": 11
        }
      ]
    },
    {
      "cell_type": "code",
      "metadata": {
        "id": "pMwRe3D1X-Ga",
        "colab_type": "code",
        "colab": {
          "base_uri": "https://localhost:8080/",
          "height": 916
        },
        "outputId": "f74d708c-9245-4452-90a2-afdaf5f38479"
      },
      "source": [
        "vieses_camada_dense = modelo.layers[1].get_weights()[1]\n",
        "vieses_camada_dense"
      ],
      "execution_count": 12,
      "outputs": [
        {
          "output_type": "execute_result",
          "data": {
            "text/plain": [
              "array([ 0.00911871, -0.03745826, -0.13627602,  0.11120404,  0.05201637,\n",
              "        0.11268267,  0.06333737,  0.21528369, -0.01614734, -0.01436956,\n",
              "        0.00033335, -0.15512136,  0.06393541, -0.10805944,  0.14991789,\n",
              "       -0.01146179, -0.01411232, -0.01014536,  0.08482157,  0.20639902,\n",
              "       -0.00982247,  0.01249494, -0.08480378, -0.01584036,  0.02666261,\n",
              "        0.01820038,  0.0354995 , -0.01735859, -0.0083655 ,  0.04779839,\n",
              "       -0.02168217,  0.01680491,  0.04056375,  0.14974733,  0.05803086,\n",
              "        0.08466677,  0.2554244 ,  0.03115829, -0.0075419 ,  0.06462476,\n",
              "        0.19735414, -0.08551834,  0.1421248 ,  0.02707705,  0.04190117,\n",
              "        0.09392364,  0.1318415 ,  0.17134725, -0.00915291,  0.16859446,\n",
              "       -0.0863253 ,  0.010572  ,  0.22681911,  0.1497312 ,  0.0282499 ,\n",
              "       -0.06313755,  0.12119143,  0.1636418 ,  0.1800228 ,  0.00201854,\n",
              "        0.000519  ,  0.1606885 ,  0.1248501 ,  0.03167919,  0.07286797,\n",
              "        0.03823005,  0.06366335, -0.1072264 ,  0.04411455, -0.01221045,\n",
              "        0.11648791,  0.2318671 , -0.00699158,  0.0237534 ,  0.1507801 ,\n",
              "       -0.01642029,  0.00790215,  0.13566174,  0.19858001, -0.11506318,\n",
              "        0.10220987,  0.2453981 ,  0.1736279 ,  0.15604603,  0.00439904,\n",
              "        0.01487061, -0.05151794,  0.13817886, -0.04932054, -0.02422066,\n",
              "       -0.02420362,  0.07105582,  0.03191171,  0.11303384,  0.18462741,\n",
              "       -0.01670749,  0.16857076,  0.14025939,  0.01628116,  0.07962866,\n",
              "       -0.00063849,  0.08923098, -0.01835805, -0.06418728,  0.1040809 ,\n",
              "       -0.01945415, -0.19222078, -0.01195248, -0.14735325,  0.09540956,\n",
              "       -0.06875529,  0.01284594,  0.07282232,  0.0088959 ,  0.14311962,\n",
              "        0.02019367,  0.12115554, -0.01513364,  0.12642275, -0.0192826 ,\n",
              "        0.05629169, -0.00838394, -0.0524159 ,  0.10210486, -0.07819133,\n",
              "        0.01011655, -0.01580902,  0.03819084, -0.05227609, -0.0088499 ,\n",
              "        0.11280949, -0.01701375,  0.01471749,  0.17912494, -0.08604335,\n",
              "        0.1972456 ,  0.19967103,  0.02040598,  0.06837843, -0.01651055,\n",
              "        0.11584698, -0.01787124,  0.08190338,  0.1391541 , -0.01369641,\n",
              "        0.29500988, -0.05754218, -0.19434586,  0.09656958, -0.05137757,\n",
              "        0.12118214, -0.04221542,  0.01480943,  0.04413722,  0.06348865,\n",
              "        0.10799906,  0.08768765, -0.07129478,  0.08640959,  0.11102263,\n",
              "        0.0093496 ,  0.18179522, -0.1251613 , -0.04790559,  0.18493809,\n",
              "       -0.09887729,  0.14478551, -0.09138258,  0.16447608,  0.11104283,\n",
              "        0.05914542,  0.1375615 , -0.01226922,  0.08509132, -0.01484587,\n",
              "        0.06759846,  0.12075745,  0.11911889,  0.0381039 ,  0.00760469,\n",
              "        0.11676111, -0.1309612 , -0.01633284, -0.06151514,  0.12164283,\n",
              "       -0.01464012,  0.06610557, -0.04713686,  0.21506575, -0.01164393,\n",
              "       -0.0550766 ,  0.16187058,  0.01221927,  0.14879946, -0.08728904,\n",
              "        0.16716987,  0.11918949,  0.01063883,  0.2773047 , -0.0007084 ,\n",
              "       -0.00550108, -0.00295168,  0.08519477, -0.01199952, -0.00969243,\n",
              "       -0.10893005,  0.08595271, -0.01782334,  0.05089952,  0.18137428,\n",
              "        0.02410287,  0.17563985,  0.05699327,  0.04190345,  0.05879493,\n",
              "        0.01955572,  0.0444999 ,  0.20704608, -0.01408843,  0.15081744,\n",
              "        0.11863229, -0.05453261,  0.00479495,  0.18887804,  0.11725935,\n",
              "       -0.04154215,  0.13175805,  0.20058917,  0.04688201,  0.05265025,\n",
              "       -0.01648377, -0.01138937, -0.01310064,  0.16968863,  0.07556225,\n",
              "        0.05125513,  0.11177743,  0.19026686, -0.14130989,  0.12278038,\n",
              "       -0.09183842,  0.13785207,  0.09803889,  0.20347652,  0.03034491,\n",
              "        0.16476747,  0.12929013,  0.2394459 , -0.13444048,  0.02167859,\n",
              "        0.23249705,  0.0823097 ,  0.1031215 , -0.0187932 , -0.00476286,\n",
              "        0.01436821], dtype=float32)"
            ]
          },
          "metadata": {
            "tags": []
          },
          "execution_count": 12
        }
      ]
    },
    {
      "cell_type": "code",
      "metadata": {
        "id": "E9KyemvxNktX",
        "colab_type": "code",
        "colab": {
          "base_uri": "https://localhost:8080/",
          "height": 795
        },
        "outputId": "d8bf5ec4-90af-4068-fd8d-d9179dbb5856"
      },
      "source": [
        "modelo.get_config()"
      ],
      "execution_count": 13,
      "outputs": [
        {
          "output_type": "execute_result",
          "data": {
            "text/plain": [
              "{'build_input_shape': TensorShape([None, 28, 28]),\n",
              " 'layers': [{'class_name': 'Flatten',\n",
              "   'config': {'batch_input_shape': (None, 28, 28),\n",
              "    'data_format': 'channels_last',\n",
              "    'dtype': 'float32',\n",
              "    'name': 'flatten',\n",
              "    'trainable': True}},\n",
              "  {'class_name': 'Dense',\n",
              "   'config': {'activation': 'relu',\n",
              "    'activity_regularizer': None,\n",
              "    'bias_constraint': None,\n",
              "    'bias_initializer': {'class_name': 'Zeros', 'config': {}},\n",
              "    'bias_regularizer': None,\n",
              "    'dtype': 'float32',\n",
              "    'kernel_constraint': None,\n",
              "    'kernel_initializer': {'class_name': 'GlorotUniform',\n",
              "     'config': {'seed': None}},\n",
              "    'kernel_regularizer': None,\n",
              "    'name': 'dense',\n",
              "    'trainable': True,\n",
              "    'units': 256,\n",
              "    'use_bias': True}},\n",
              "  {'class_name': 'Dropout',\n",
              "   'config': {'dtype': 'float32',\n",
              "    'name': 'dropout',\n",
              "    'noise_shape': None,\n",
              "    'rate': 0.2,\n",
              "    'seed': None,\n",
              "    'trainable': True}},\n",
              "  {'class_name': 'Dense',\n",
              "   'config': {'activation': 'softmax',\n",
              "    'activity_regularizer': None,\n",
              "    'bias_constraint': None,\n",
              "    'bias_initializer': {'class_name': 'Zeros', 'config': {}},\n",
              "    'bias_regularizer': None,\n",
              "    'dtype': 'float32',\n",
              "    'kernel_constraint': None,\n",
              "    'kernel_initializer': {'class_name': 'GlorotUniform',\n",
              "     'config': {'seed': None}},\n",
              "    'kernel_regularizer': None,\n",
              "    'name': 'dense_1',\n",
              "    'trainable': True,\n",
              "    'units': 10,\n",
              "    'use_bias': True}}],\n",
              " 'name': 'sequential'}"
            ]
          },
          "metadata": {
            "tags": []
          },
          "execution_count": 13
        }
      ]
    },
    {
      "cell_type": "code",
      "metadata": {
        "id": "Y4zbjIseb9LA",
        "colab_type": "code",
        "colab": {}
      },
      "source": [
        "# salvando o modelo treinado\n",
        "modelo.save('modelo.h5')\n",
        "modelo_salvo = load_model('modelo.h5')"
      ],
      "execution_count": 14,
      "outputs": []
    },
    {
      "cell_type": "markdown",
      "metadata": {
        "id": "hRvhrQvRcahb",
        "colab_type": "text"
      },
      "source": [
        "**Visualizando as acurácias de treino e validação por época** "
      ]
    },
    {
      "cell_type": "code",
      "metadata": {
        "id": "wAZ3BT_xcXDZ",
        "colab_type": "code",
        "colab": {
          "base_uri": "https://localhost:8080/",
          "height": 296
        },
        "outputId": "d873cb81-42d7-45c9-fc33-68de9e6a37ef"
      },
      "source": [
        "plt.plot(historico.history['accuracy'])\n",
        "plt.plot(historico.history['val_accuracy'])\n",
        "plt.title('Acurácia por época')\n",
        "plt.xlabel('épocas')\n",
        "plt.ylabel('acurácia')\n",
        "plt.legend(['treino', 'validação'])\n",
        "plt.show()"
      ],
      "execution_count": 15,
      "outputs": [
        {
          "output_type": "display_data",
          "data": {
            "image/png": "[encoded data removed]",
            "text/plain": [
              "<Figure size 432x288 with 1 Axes>"
            ]
          },
          "metadata": {
            "tags": [],
            "needs_background": "light"
          }
        }
      ]
    },
    {
      "cell_type": "markdown",
      "metadata": {
        "id": "SXXM82MVdrdn",
        "colab_type": "text"
      },
      "source": [
        "**Visualizando as perdas de treino e validação por época**  "
      ]
    },
    {
      "cell_type": "code",
      "metadata": {
        "id": "4tdIGIFDdbBo",
        "colab_type": "code",
        "colab": {
          "base_uri": "https://localhost:8080/",
          "height": 296
        },
        "outputId": "dc9d6534-dfc1-4fe1-859c-0756b9a252f6"
      },
      "source": [
        "plt.plot(historico.history['loss'])\n",
        "plt.plot(historico.history['val_loss'])\n",
        "plt.title('Perda por época')\n",
        "plt.xlabel('épocas')\n",
        "plt.ylabel('perda')\n",
        "plt.legend(['treino', 'validação'])\n",
        "plt.show()"
      ],
      "execution_count": 16,
      "outputs": [
        {
          "output_type": "display_data",
          "data": {
            "image/png": "[encoded data removed]",
            "text/plain": [
              "<Figure size 432x288 with 1 Axes>"
            ]
          },
          "metadata": {
            "tags": [],
            "needs_background": "light"
          }
        }
      ]
    },
    {
      "cell_type": "markdown",
      "metadata": {
        "id": "TDGtWzt6d9Hi",
        "colab_type": "text"
      },
      "source": [
        "**Testando o modelo e o modelo salvo**  "
      ]
    },
    {
      "cell_type": "code",
      "metadata": {
        "id": "whl212bAdzn1",
        "colab_type": "code",
        "colab": {
          "base_uri": "https://localhost:8080/",
          "height": 52
        },
        "outputId": "61b5d301-7005-4645-c25b-d5fdd0b7da4d"
      },
      "source": [
        "teste = modelo.predict(img_teste)\n",
        "print(f'Resultado do teste: {np.argmax(teste[0])}')\n",
        "print(f'Número da imagem do teste: {labels_teste[0]}')"
      ],
      "execution_count": 17,
      "outputs": [
        {
          "output_type": "stream",
          "text": [
            "Resultado do teste: 9\n",
            "Número da imagem do teste: 9\n"
          ],
          "name": "stdout"
        }
      ]
    },
    {
      "cell_type": "code",
      "metadata": {
        "id": "Lp6udUzreejP",
        "colab_type": "code",
        "colab": {
          "base_uri": "https://localhost:8080/",
          "height": 52
        },
        "outputId": "9ccc744c-cc86-46fa-ddda-cecdbbb62d9c"
      },
      "source": [
        "teste_modelo_salvo = modelo_salvo.predict(img_teste)\n",
        "print(f'Resultado do teste: {np.argmax(teste_modelo_salvo[0])}')\n",
        "print(f'Número da imagem do teste: {labels_teste[0]}')"
      ],
      "execution_count": 18,
      "outputs": [
        {
          "output_type": "stream",
          "text": [
            "Resultado do teste: 9\n",
            "Número da imagem do teste: 9\n"
          ],
          "name": "stdout"
        }
      ]
    },
    {
      "cell_type": "markdown",
      "metadata": {
        "id": "0M_2OeLue4Gz",
        "colab_type": "text"
      },
      "source": [
        "**Avaliando o modelo** "
      ]
    },
    {
      "cell_type": "code",
      "metadata": {
        "id": "wqGuffvieyG7",
        "colab_type": "code",
        "colab": {
          "base_uri": "https://localhost:8080/",
          "height": 69
        },
        "outputId": "38e35bcd-f68a-48d5-d1bf-f0c40fac95b2"
      },
      "source": [
        "perda_teste, acuracia_teste = modelo.evaluate(img_teste, labels_teste)\n",
        "print(f'Perda teste: {perda_teste}')\n",
        "print(f'Acurácia teste: {acuracia_teste}')"
      ],
      "execution_count": 19,
      "outputs": [
        {
          "output_type": "stream",
          "text": [
            "313/313 [==============================] - 0s 2ms/step - loss: 53.0014 - accuracy: 0.8547\n",
            "Perda teste: 53.001373291015625\n",
            "Acurácia teste: 0.8547000288963318\n"
          ],
          "name": "stdout"
        }
      ]
    },
    {
      "cell_type": "markdown",
      "metadata": {
        "id": "WbKC6U4sgBR_",
        "colab_type": "text"
      },
      "source": [
        "Materiais de apoio: https://cursos.alura.com.br/course/deep-learning-introducao-com-keras"
      ]
    }
  ]
}