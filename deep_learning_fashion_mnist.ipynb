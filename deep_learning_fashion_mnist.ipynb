{
  "nbformat": 4,
  "nbformat_minor": 0,
  "metadata": {
    "colab": {
      "name": "deep-learning-fashion-mnist.ipynb",
      "provenance": [],
      "collapsed_sections": [],
      "authorship_tag": "ABX9TyOMRi4FIdUOSvh/CVQDm215",
      "include_colab_link": true
    },
    "kernelspec": {
      "name": "python3",
      "display_name": "Python 3"
    }
  },
  "cells": [
    {
      "cell_type": "markdown",
      "metadata": {
        "id": "view-in-github",
        "colab_type": "text"
      },
      "source": [
        "<a href=\"https://colab.research.google.com/github/beatrizmaiads/deep-learning-projects/blob/master/deep_learning_fashion_mnist.ipynb\" target=\"_parent\"><img src=\"https://colab.research.google.com/assets/colab-badge.svg\" alt=\"Open In Colab\"/></a>"
      ]
    },
    {
      "cell_type": "markdown",
      "metadata": {
        "id": "5e5kQ_kSV-OL",
        "colab_type": "text"
      },
      "source": [
        "# **Deep Learning - Keras-Tensorflow**"
      ]
    },
    {
      "cell_type": "code",
      "metadata": {
        "id": "5D66GFghVzvs",
        "colab_type": "code",
        "colab": {}
      },
      "source": [
        "# importando bibliotecas\n",
        "import numpy as np\n",
        "import matplotlib.pyplot as plt\n",
        "import tensorflow\n",
        "from tensorflow import keras\n",
        "from tensorflow.keras.models import load_model"
      ],
      "execution_count": null,
      "outputs": []
    },
    {
      "cell_type": "code",
      "metadata": {
        "id": "a8XRIGDvWfuN",
        "colab_type": "code",
        "colab": {}
      },
      "source": [
        "# carregando o dataset\n",
        "dados = keras.datasets.fashion_mnist\n",
        "((img_treino, labels_treino), (img_teste, labels_teste)) = dados.load_data()"
      ],
      "execution_count": null,
      "outputs": []
    },
    {
      "cell_type": "markdown",
      "metadata": {
        "id": "Qd3a1bHQYUIx",
        "colab_type": "text"
      },
      "source": [
        "## Conhecendo melhor os nosso dados"
      ]
    },
    {
      "cell_type": "code",
      "metadata": {
        "id": "SF9xZGlQXEVX",
        "colab_type": "code",
        "colab": {
          "base_uri": "https://localhost:8080/",
          "height": 34
        },
        "outputId": "341884b0-ce93-41ef-c1a6-7dd3976cbb72"
      },
      "source": [
        "img_treino.shape"
      ],
      "execution_count": null,
      "outputs": [
        {
          "output_type": "execute_result",
          "data": {
            "text/plain": [
              "(60000, 28, 28)"
            ]
          },
          "metadata": {
            "tags": []
          },
          "execution_count": 3
        }
      ]
    },
    {
      "cell_type": "code",
      "metadata": {
        "id": "RGp6l13tXiJH",
        "colab_type": "code",
        "colab": {
          "base_uri": "https://localhost:8080/",
          "height": 34
        },
        "outputId": "c804cc6a-1fc5-4b2b-88a2-1702dfcce478"
      },
      "source": [
        "img_teste.shape"
      ],
      "execution_count": null,
      "outputs": [
        {
          "output_type": "execute_result",
          "data": {
            "text/plain": [
              "(10000, 28, 28)"
            ]
          },
          "metadata": {
            "tags": []
          },
          "execution_count": 4
        }
      ]
    },
    {
      "cell_type": "code",
      "metadata": {
        "id": "MD2EP7nAXuf5",
        "colab_type": "code",
        "colab": {
          "base_uri": "https://localhost:8080/",
          "height": 52
        },
        "outputId": "7b75f901-5623-4f69-c99f-88abf854d7ab"
      },
      "source": [
        "print(f'Min id: {labels_treino.min()}')\n",
        "print(f'Max id: {labels_treino.max()}')"
      ],
      "execution_count": null,
      "outputs": [
        {
          "output_type": "stream",
          "text": [
            "Min id: 0\n",
            "Max id: 9\n"
          ],
          "name": "stdout"
        }
      ]
    },
    {
      "cell_type": "code",
      "metadata": {
        "id": "Yzf4US4_XxD8",
        "colab_type": "code",
        "colab": {}
      },
      "source": [
        "total_de_labels = 10\n",
        "nomes_labels = ['Camiseta', 'Calça', 'Pullover', \n",
        "                'Vestido', 'Casaco', 'Sandália', 'Camisa',\n",
        "                'Tênis', 'Bolsa', 'Bota'] #informação retirada do https://github.com/zalandoresearch/fashion-mnist"
      ],
      "execution_count": null,
      "outputs": []
    },
    {
      "cell_type": "code",
      "metadata": {
        "id": "kfS_S581ZSPO",
        "colab_type": "code",
        "colab": {
          "base_uri": "https://localhost:8080/",
          "height": 265
        },
        "outputId": "7fdb0f87-4bb9-448e-9067-492abf97b055"
      },
      "source": [
        "# visualizando nossas imagens\n",
        "plt.imshow(img_treino[0])\n",
        "plt.colorbar()\n",
        "plt.show()"
      ],
      "execution_count": null,
      "outputs": [
        {
          "output_type": "display_data",
          "data": {
            "image/png": "[encoded data removed]",
            "text/plain": [
              "<Figure size 432x288 with 2 Axes>"
            ]
          },
          "metadata": {
            "tags": [],
            "needs_background": "light"
          }
        }
      ]
    },
    {
      "cell_type": "code",
      "metadata": {
        "id": "rB1M0kL2ZkUJ",
        "colab_type": "code",
        "colab": {
          "base_uri": "https://localhost:8080/",
          "height": 269
        },
        "outputId": "68b37a9a-1fad-41d0-8064-93b160d58afe"
      },
      "source": [
        "# normalizando as imagens\n",
        "img_treino = img_treino / float(255)\n",
        "\n",
        "plt.imshow(img_treino[0])\n",
        "plt.colorbar()\n",
        "plt.show()"
      ],
      "execution_count": null,
      "outputs": [
        {
          "output_type": "display_data",
          "data": {
            "image/png": "[encoded data removed]",
            "text/plain": [
              "<Figure size 432x288 with 2 Axes>"
            ]
          },
          "metadata": {
            "tags": [],
            "needs_background": "light"
          }
        }
      ]
    },
    {
      "cell_type": "markdown",
      "metadata": {
        "id": "nD9qsx7NaCOy",
        "colab_type": "text"
      },
      "source": [
        "## Criando, compilando, treinando e normalizando o modelo"
      ]
    },
    {
      "cell_type": "code",
      "metadata": {
        "id": "BkPmZITQZ5uA",
        "colab_type": "code",
        "colab": {
          "base_uri": "https://localhost:8080/",
          "height": 190
        },
        "outputId": "36227c14-edb0-417b-983d-f92f941e7f82"
      },
      "source": [
        "modelo = keras.Sequential([\n",
        "    keras.layers.Flatten(input_shape=(28, 28)), #entrada\n",
        "    keras.layers.Dense(256, activation=tensorflow.nn.relu), #camada oculta\n",
        "    keras.layers.Dropout(0.2), #camada oculta\n",
        "    keras.layers.Dense(10, activation=tensorflow.nn.softmax) #saída\n",
        "])\n",
        "\n",
        "modelo.compile(optimizer='adam',\n",
        "               loss='sparse_categorical_crossentropy',\n",
        "               metrics=['accuracy'])\n",
        "\n",
        "historico = modelo.fit(img_treino, labels_treino, epochs=5, validation_split=0.2)"
      ],
      "execution_count": null,
      "outputs": [
        {
          "output_type": "stream",
          "text": [
            "Epoch 1/5\n",
            "1500/1500 [==============================] - 5s 3ms/step - loss: 0.5312 - accuracy: 0.8112 - val_loss: 0.4082 - val_accuracy: 0.8521\n",
            "Epoch 2/5\n",
            "1500/1500 [==============================] - 4s 3ms/step - loss: 0.3991 - accuracy: 0.8547 - val_loss: 0.3810 - val_accuracy: 0.8587\n",
            "Epoch 3/5\n",
            "1500/1500 [==============================] - 5s 3ms/step - loss: 0.3644 - accuracy: 0.8654 - val_loss: 0.3516 - val_accuracy: 0.8725\n",
            "Epoch 4/5\n",
            "1500/1500 [==============================] - 4s 3ms/step - loss: 0.3423 - accuracy: 0.8743 - val_loss: 0.3402 - val_accuracy: 0.8753\n",
            "Epoch 5/5\n",
            "1500/1500 [==============================] - 4s 3ms/step - loss: 0.3239 - accuracy: 0.8807 - val_loss: 0.3430 - val_accuracy: 0.8786\n"
          ],
          "name": "stdout"
        }
      ]
    },
    {
      "cell_type": "code",
      "metadata": {
        "id": "Y4zbjIseb9LA",
        "colab_type": "code",
        "colab": {}
      },
      "source": [
        "# salvando o modelo treinado\n",
        "modelo.save('modelo.h5')\n",
        "modelo_salvo = load_model('modelo.h5')"
      ],
      "execution_count": null,
      "outputs": []
    },
    {
      "cell_type": "markdown",
      "metadata": {
        "id": "hRvhrQvRcahb",
        "colab_type": "text"
      },
      "source": [
        "**Visualizando as acurácias de treino e validação por época** "
      ]
    },
    {
      "cell_type": "code",
      "metadata": {
        "id": "wAZ3BT_xcXDZ",
        "colab_type": "code",
        "colab": {
          "base_uri": "https://localhost:8080/",
          "height": 296
        },
        "outputId": "5a9e264a-537c-44d1-f389-6d541f6cc805"
      },
      "source": [
        "plt.plot(historico.history['accuracy'])\n",
        "plt.plot(historico.history['val_accuracy'])\n",
        "plt.title('Acurácia por época')\n",
        "plt.xlabel('épocas')\n",
        "plt.ylabel('acurácia')\n",
        "plt.legend(['treino', 'validação'])\n",
        "plt.show()"
      ],
      "execution_count": null,
      "outputs": [
        {
          "output_type": "display_data",
          "data": {
            "image/png": "[encoded data removed]",
            "text/plain": [
              "<Figure size 432x288 with 1 Axes>"
            ]
          },
          "metadata": {
            "tags": [],
            "needs_background": "light"
          }
        }
      ]
    },
    {
      "cell_type": "markdown",
      "metadata": {
        "id": "SXXM82MVdrdn",
        "colab_type": "text"
      },
      "source": [
        "**Visualizando as perdas de treino e validação por época**  "
      ]
    },
    {
      "cell_type": "code",
      "metadata": {
        "id": "4tdIGIFDdbBo",
        "colab_type": "code",
        "colab": {
          "base_uri": "https://localhost:8080/",
          "height": 296
        },
        "outputId": "c9a914a4-5ddb-4488-eee7-424f315448ab"
      },
      "source": [
        "plt.plot(historico.history['loss'])\n",
        "plt.plot(historico.history['val_loss'])\n",
        "plt.title('Perda por época')\n",
        "plt.xlabel('épocas')\n",
        "plt.ylabel('perda')\n",
        "plt.legend(['treino', 'validação'])\n",
        "plt.show()"
      ],
      "execution_count": null,
      "outputs": [
        {
          "output_type": "display_data",
          "data": {
            "image/png": "[encoded data removed]",
            "text/plain": [
              "<Figure size 432x288 with 1 Axes>"
            ]
          },
          "metadata": {
            "tags": [],
            "needs_background": "light"
          }
        }
      ]
    },
    {
      "cell_type": "markdown",
      "metadata": {
        "id": "TDGtWzt6d9Hi",
        "colab_type": "text"
      },
      "source": [
        "**Testando o modelo e o modelo salvo**  "
      ]
    },
    {
      "cell_type": "code",
      "metadata": {
        "id": "whl212bAdzn1",
        "colab_type": "code",
        "colab": {
          "base_uri": "https://localhost:8080/",
          "height": 52
        },
        "outputId": "02b9c550-2900-4019-853e-5f7ed3678e06"
      },
      "source": [
        "teste = modelo.predict(img_teste)\n",
        "print(f'Resultado do teste: {np.argmax(teste[0])}')\n",
        "print(f'Número da imagem do teste: {labels_teste[0]}')"
      ],
      "execution_count": null,
      "outputs": [
        {
          "output_type": "stream",
          "text": [
            "Resultado do teste: 9\n",
            "Número da imagem do teste: 9\n"
          ],
          "name": "stdout"
        }
      ]
    },
    {
      "cell_type": "code",
      "metadata": {
        "id": "Lp6udUzreejP",
        "colab_type": "code",
        "colab": {
          "base_uri": "https://localhost:8080/",
          "height": 52
        },
        "outputId": "9d73dca9-695e-4227-be5d-38020c19e31f"
      },
      "source": [
        "teste_modelo_salvo = modelo_salvo.predict(img_teste)\n",
        "print(f'Resultado do teste: {np.argmax(teste_modelo_salvo[0])}')\n",
        "print(f'Número da imagem do teste: {labels_teste[0]}')"
      ],
      "execution_count": null,
      "outputs": [
        {
          "output_type": "stream",
          "text": [
            "Resultado do teste: 9\n",
            "Número da imagem do teste: 9\n"
          ],
          "name": "stdout"
        }
      ]
    },
    {
      "cell_type": "markdown",
      "metadata": {
        "id": "0M_2OeLue4Gz",
        "colab_type": "text"
      },
      "source": [
        "**Avaliando o modelo** "
      ]
    },
    {
      "cell_type": "code",
      "metadata": {
        "id": "wqGuffvieyG7",
        "colab_type": "code",
        "colab": {
          "base_uri": "https://localhost:8080/",
          "height": 69
        },
        "outputId": "fa80ff4b-1335-49bb-968d-67738b2b63fe"
      },
      "source": [
        "perda_teste, acuracia_teste = modelo.evaluate(img_teste, labels_teste)\n",
        "print(f'Perda teste: {perda_teste}')\n",
        "print(f'Acurácia teste: {acuracia_teste}')"
      ],
      "execution_count": null,
      "outputs": [
        {
          "output_type": "stream",
          "text": [
            "313/313 [==============================] - 0s 2ms/step - loss: 50.4810 - accuracy: 0.8624\n",
            "Perda teste: 50.481048583984375\n",
            "Acurácia teste: 0.8623999953269958\n"
          ],
          "name": "stdout"
        }
      ]
    },
    {
      "cell_type": "markdown",
      "metadata": {
        "id": "WbKC6U4sgBR_",
        "colab_type": "text"
      },
      "source": [
        "Materiais de apoio: https://cursos.alura.com.br/course/deep-learning-introducao-com-keras"
      ]
    }
  ]
}